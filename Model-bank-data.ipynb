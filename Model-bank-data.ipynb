{
 "cells": [
  {
   "cell_type": "markdown",
   "metadata": {},
   "source": [
    "# Aplicando algoritmo basado en Árboles\n",
    "Inicialmente se toma el archivo csv que se obtuvo de la fase de tratamiento de datos en la primera entrega."
   ]
  },
  {
   "cell_type": "code",
   "execution_count": 1,
   "metadata": {},
   "outputs": [
    {
     "data": {
      "text/html": [
       "<div>\n",
       "<style scoped>\n",
       "    .dataframe tbody tr th:only-of-type {\n",
       "        vertical-align: middle;\n",
       "    }\n",
       "\n",
       "    .dataframe tbody tr th {\n",
       "        vertical-align: top;\n",
       "    }\n",
       "\n",
       "    .dataframe thead th {\n",
       "        text-align: right;\n",
       "    }\n",
       "</style>\n",
       "<table border=\"1\" class=\"dataframe\">\n",
       "  <thead>\n",
       "    <tr style=\"text-align: right;\">\n",
       "      <th></th>\n",
       "      <th>age</th>\n",
       "      <th>job</th>\n",
       "      <th>marital</th>\n",
       "      <th>education</th>\n",
       "      <th>default</th>\n",
       "      <th>balance</th>\n",
       "      <th>housing</th>\n",
       "      <th>loan</th>\n",
       "      <th>campaign</th>\n",
       "      <th>previous</th>\n",
       "      <th>poutcome</th>\n",
       "      <th>y</th>\n",
       "    </tr>\n",
       "  </thead>\n",
       "  <tbody>\n",
       "    <tr>\n",
       "      <th>0</th>\n",
       "      <td>58.0</td>\n",
       "      <td>management</td>\n",
       "      <td>married</td>\n",
       "      <td>tertiary</td>\n",
       "      <td>no</td>\n",
       "      <td>2143.0</td>\n",
       "      <td>yes</td>\n",
       "      <td>no</td>\n",
       "      <td>1.0</td>\n",
       "      <td>0.0</td>\n",
       "      <td>unknown</td>\n",
       "      <td>no</td>\n",
       "    </tr>\n",
       "    <tr>\n",
       "      <th>1</th>\n",
       "      <td>44.0</td>\n",
       "      <td>technician</td>\n",
       "      <td>single</td>\n",
       "      <td>secondary</td>\n",
       "      <td>no</td>\n",
       "      <td>29.0</td>\n",
       "      <td>yes</td>\n",
       "      <td>no</td>\n",
       "      <td>1.0</td>\n",
       "      <td>0.0</td>\n",
       "      <td>unknown</td>\n",
       "      <td>no</td>\n",
       "    </tr>\n",
       "    <tr>\n",
       "      <th>2</th>\n",
       "      <td>33.0</td>\n",
       "      <td>entrepreneur</td>\n",
       "      <td>married</td>\n",
       "      <td>secondary</td>\n",
       "      <td>no</td>\n",
       "      <td>2.0</td>\n",
       "      <td>yes</td>\n",
       "      <td>yes</td>\n",
       "      <td>1.0</td>\n",
       "      <td>0.0</td>\n",
       "      <td>unknown</td>\n",
       "      <td>no</td>\n",
       "    </tr>\n",
       "    <tr>\n",
       "      <th>3</th>\n",
       "      <td>47.0</td>\n",
       "      <td>blue-collar</td>\n",
       "      <td>married</td>\n",
       "      <td>unknown</td>\n",
       "      <td>no</td>\n",
       "      <td>1506.0</td>\n",
       "      <td>yes</td>\n",
       "      <td>no</td>\n",
       "      <td>1.0</td>\n",
       "      <td>0.0</td>\n",
       "      <td>unknown</td>\n",
       "      <td>no</td>\n",
       "    </tr>\n",
       "    <tr>\n",
       "      <th>4</th>\n",
       "      <td>33.0</td>\n",
       "      <td>unknown</td>\n",
       "      <td>single</td>\n",
       "      <td>unknown</td>\n",
       "      <td>no</td>\n",
       "      <td>1.0</td>\n",
       "      <td>no</td>\n",
       "      <td>no</td>\n",
       "      <td>1.0</td>\n",
       "      <td>0.0</td>\n",
       "      <td>unknown</td>\n",
       "      <td>no</td>\n",
       "    </tr>\n",
       "  </tbody>\n",
       "</table>\n",
       "</div>"
      ],
      "text/plain": [
       "    age           job  marital  education default  balance housing loan  \\\n",
       "0  58.0    management  married   tertiary      no   2143.0     yes   no   \n",
       "1  44.0    technician   single  secondary      no     29.0     yes   no   \n",
       "2  33.0  entrepreneur  married  secondary      no      2.0     yes  yes   \n",
       "3  47.0   blue-collar  married    unknown      no   1506.0     yes   no   \n",
       "4  33.0       unknown   single    unknown      no      1.0      no   no   \n",
       "\n",
       "   campaign  previous poutcome   y  \n",
       "0       1.0       0.0  unknown  no  \n",
       "1       1.0       0.0  unknown  no  \n",
       "2       1.0       0.0  unknown  no  \n",
       "3       1.0       0.0  unknown  no  \n",
       "4       1.0       0.0  unknown  no  "
      ]
     },
     "execution_count": 1,
     "metadata": {},
     "output_type": "execute_result"
    }
   ],
   "source": [
    "import pandas as pd\n",
    "\n",
    "encoding = 'iso-8859-1'    \n",
    "delimiter = ';'\n",
    "filename = 'bank_balanced.csv'\n",
    "\n",
    "bank_balanced = pd.read_csv(filename, \n",
    "                   delimiter = delimiter,\n",
    "                   encoding = encoding)\n",
    "bank_balanced.head()"
   ]
  },
  {
   "cell_type": "markdown",
   "metadata": {},
   "source": [
    "## Aplicando Transformaciones\n",
    "Debido a que scikit-learn utiliza una versión optimizada del algoritmo CART que no soporta valores categóricos se procede a numerizar los valores categóricos del conjunto de datos."
   ]
  },
  {
   "cell_type": "code",
   "execution_count": 2,
   "metadata": {},
   "outputs": [
    {
     "name": "stdout",
     "output_type": "stream",
     "text": [
      "job:  ['management' 'technician' 'entrepreneur' 'blue-collar' 'unknown'\n",
      " 'retired' 'admin.' 'services' 'self-employed' 'unemployed' 'housemaid'\n",
      " 'student' 'other']\n",
      "marital:  ['married' 'single' 'divorced']\n",
      "education:  ['tertiary' 'secondary' 'unknown' 'primary']\n",
      "default:  ['no' 'yes']\n",
      "housing:  ['yes' 'no']\n",
      "loan:  ['no' 'yes']\n",
      "poutcome:  ['unknown' 'failure' 'other' 'success']\n",
      "y:  ['no' 'yes']\n"
     ]
    }
   ],
   "source": [
    "print('job: ', bank_balanced['job'].unique())\n",
    "print('marital: ', bank_balanced['marital'].unique())\n",
    "print('education: ', bank_balanced['education'].unique())\n",
    "print('default: ', bank_balanced['default'].unique())\n",
    "print('housing: ', bank_balanced['housing'].unique())\n",
    "print('loan: ', bank_balanced['loan'].unique())\n",
    "print('poutcome: ', bank_balanced['poutcome'].unique())\n",
    "print('y: ', bank_balanced['y'].unique())"
   ]
  },
  {
   "cell_type": "markdown",
   "metadata": {},
   "source": [
    "## Numerización\n",
    "Se generan funciones para realizar las numeraciones."
   ]
  },
  {
   "cell_type": "code",
   "execution_count": 3,
   "metadata": {},
   "outputs": [],
   "source": [
    "def bool_to_numeric(x):\n",
    "    if x=='no': return 0\n",
    "    if x=='yes': return 1\n",
    "\n",
    "def job_to_numeric(x):\n",
    "    if x == 'unknown': return 0\n",
    "    if x == 'management': return 1\n",
    "    if x == 'technician': return 2\n",
    "    if x == 'entrepreneur': return 3\n",
    "    if x == 'blue-collar': return 4\n",
    "    if x == 'retired': return 5\n",
    "    if x == 'admin.': return 6\n",
    "    if x == 'services': return 7\n",
    "    if x == 'self-employed': return 8\n",
    "    if x == 'unemployed': return 9\n",
    "    if x == 'housemaid': return 10\n",
    "    if x == 'student': return 11\n",
    "    if x == 'other': return 12\n",
    "    \n",
    "def marital_to_numeric(x):\n",
    "    if x == 'married': return 0\n",
    "    if x == 'single': return 1\n",
    "    if x == 'divorced': return 2\n",
    "\n",
    "def education_to_numeric(x):\n",
    "    if x == 'unknown': return 0\n",
    "    if x == 'primary': return 1\n",
    "    if x == 'secondary': return 2\n",
    "    if x == 'tertiary': return 3\n",
    "\n",
    "def poutcome_to_numeric(x):\n",
    "    if x == 'unknown': return 0\n",
    "    if x == 'failure': return 1\n",
    "    if x == 'success': return 2\n",
    "    if x == 'other': return 3\n",
    "\n",
    "bank_balanced['job'] = bank_balanced['job'].apply(job_to_numeric)\n",
    "bank_balanced['marital'] = bank_balanced['marital'].apply(marital_to_numeric)\n",
    "bank_balanced['education'] = bank_balanced['education'].apply(education_to_numeric)\n",
    "bank_balanced['default'] = bank_balanced['default'].apply(bool_to_numeric)\n",
    "bank_balanced['housing'] = bank_balanced['housing'].apply(bool_to_numeric)\n",
    "bank_balanced['loan'] = bank_balanced['loan'].apply(bool_to_numeric)\n",
    "bank_balanced['poutcome'] = bank_balanced['poutcome'].apply(poutcome_to_numeric)\n",
    "bank_balanced['y'] = bank_balanced['y'].apply(bool_to_numeric)"
   ]
  },
  {
   "cell_type": "markdown",
   "metadata": {},
   "source": [
    "## Archivo Transformado\n",
    "A continuación, se muestra el conjunto de datos numerizado:"
   ]
  },
  {
   "cell_type": "code",
   "execution_count": 4,
   "metadata": {},
   "outputs": [
    {
     "data": {
      "text/html": [
       "<div>\n",
       "<style scoped>\n",
       "    .dataframe tbody tr th:only-of-type {\n",
       "        vertical-align: middle;\n",
       "    }\n",
       "\n",
       "    .dataframe tbody tr th {\n",
       "        vertical-align: top;\n",
       "    }\n",
       "\n",
       "    .dataframe thead th {\n",
       "        text-align: right;\n",
       "    }\n",
       "</style>\n",
       "<table border=\"1\" class=\"dataframe\">\n",
       "  <thead>\n",
       "    <tr style=\"text-align: right;\">\n",
       "      <th></th>\n",
       "      <th>age</th>\n",
       "      <th>job</th>\n",
       "      <th>marital</th>\n",
       "      <th>education</th>\n",
       "      <th>default</th>\n",
       "      <th>balance</th>\n",
       "      <th>housing</th>\n",
       "      <th>loan</th>\n",
       "      <th>campaign</th>\n",
       "      <th>previous</th>\n",
       "      <th>poutcome</th>\n",
       "      <th>y</th>\n",
       "    </tr>\n",
       "  </thead>\n",
       "  <tbody>\n",
       "    <tr>\n",
       "      <th>0</th>\n",
       "      <td>58.0</td>\n",
       "      <td>1</td>\n",
       "      <td>0</td>\n",
       "      <td>3</td>\n",
       "      <td>0</td>\n",
       "      <td>2143.0</td>\n",
       "      <td>1</td>\n",
       "      <td>0</td>\n",
       "      <td>1.0</td>\n",
       "      <td>0.0</td>\n",
       "      <td>0</td>\n",
       "      <td>0</td>\n",
       "    </tr>\n",
       "    <tr>\n",
       "      <th>1</th>\n",
       "      <td>44.0</td>\n",
       "      <td>2</td>\n",
       "      <td>1</td>\n",
       "      <td>2</td>\n",
       "      <td>0</td>\n",
       "      <td>29.0</td>\n",
       "      <td>1</td>\n",
       "      <td>0</td>\n",
       "      <td>1.0</td>\n",
       "      <td>0.0</td>\n",
       "      <td>0</td>\n",
       "      <td>0</td>\n",
       "    </tr>\n",
       "    <tr>\n",
       "      <th>2</th>\n",
       "      <td>33.0</td>\n",
       "      <td>3</td>\n",
       "      <td>0</td>\n",
       "      <td>2</td>\n",
       "      <td>0</td>\n",
       "      <td>2.0</td>\n",
       "      <td>1</td>\n",
       "      <td>1</td>\n",
       "      <td>1.0</td>\n",
       "      <td>0.0</td>\n",
       "      <td>0</td>\n",
       "      <td>0</td>\n",
       "    </tr>\n",
       "    <tr>\n",
       "      <th>3</th>\n",
       "      <td>47.0</td>\n",
       "      <td>4</td>\n",
       "      <td>0</td>\n",
       "      <td>0</td>\n",
       "      <td>0</td>\n",
       "      <td>1506.0</td>\n",
       "      <td>1</td>\n",
       "      <td>0</td>\n",
       "      <td>1.0</td>\n",
       "      <td>0.0</td>\n",
       "      <td>0</td>\n",
       "      <td>0</td>\n",
       "    </tr>\n",
       "    <tr>\n",
       "      <th>4</th>\n",
       "      <td>33.0</td>\n",
       "      <td>0</td>\n",
       "      <td>1</td>\n",
       "      <td>0</td>\n",
       "      <td>0</td>\n",
       "      <td>1.0</td>\n",
       "      <td>0</td>\n",
       "      <td>0</td>\n",
       "      <td>1.0</td>\n",
       "      <td>0.0</td>\n",
       "      <td>0</td>\n",
       "      <td>0</td>\n",
       "    </tr>\n",
       "  </tbody>\n",
       "</table>\n",
       "</div>"
      ],
      "text/plain": [
       "    age  job  marital  education  default  balance  housing  loan  campaign  \\\n",
       "0  58.0    1        0          3        0   2143.0        1     0       1.0   \n",
       "1  44.0    2        1          2        0     29.0        1     0       1.0   \n",
       "2  33.0    3        0          2        0      2.0        1     1       1.0   \n",
       "3  47.0    4        0          0        0   1506.0        1     0       1.0   \n",
       "4  33.0    0        1          0        0      1.0        0     0       1.0   \n",
       "\n",
       "   previous  poutcome  y  \n",
       "0       0.0         0  0  \n",
       "1       0.0         0  0  \n",
       "2       0.0         0  0  \n",
       "3       0.0         0  0  \n",
       "4       0.0         0  0  "
      ]
     },
     "execution_count": 4,
     "metadata": {},
     "output_type": "execute_result"
    }
   ],
   "source": [
    "bank_balanced.head()"
   ]
  },
  {
   "cell_type": "markdown",
   "metadata": {},
   "source": [
    "## Creando los conjuntos de prueba\n",
    "Se separan los datos en dos conjuntos. El primero es para los datos utilizados durante el entrenamiento y el restante para realizar las pruebas."
   ]
  },
  {
   "cell_type": "code",
   "execution_count": 5,
   "metadata": {},
   "outputs": [],
   "source": [
    "from sklearn.model_selection import train_test_split\n",
    "\n",
    "bank_data = bank_balanced[['age','job','marital', 'education', 'default', 'balance', 'housing', 'loan', 'campaign', 'previous', 'poutcome']]\n",
    "bank_target = bank_balanced['y']\n",
    "\n",
    "bank_train, bank_test, y_train, y_test = train_test_split(bank_data, bank_target, random_state=0)"
   ]
  },
  {
   "cell_type": "markdown",
   "metadata": {},
   "source": [
    "### Verificando tamaños"
   ]
  },
  {
   "cell_type": "code",
   "execution_count": 6,
   "metadata": {},
   "outputs": [
    {
     "name": "stdout",
     "output_type": "stream",
     "text": [
      "Bank_train shape: (59850, 11)\n",
      "Y_train shape: (59850,)\n",
      "Bank_test shape: (19950, 11)\n",
      "Y_test shape: (19950,)\n"
     ]
    }
   ],
   "source": [
    "print(\"Bank_train shape: {}\".format(bank_train.shape))\n",
    "print(\"Y_train shape: {}\".format(y_train.shape))\n",
    "print(\"Bank_test shape: {}\".format(bank_test.shape))\n",
    "print(\"Y_test shape: {}\".format(y_test.shape))"
   ]
  },
  {
   "cell_type": "markdown",
   "metadata": {},
   "source": [
    "### Validación Cruzada\n",
    "La complejidad de un árbol se puede controlar mediante la profundidad del mismo. Con esto en mente, se realiza la validación cruzada dividiendo el conjunto de datos en 10 partes, iterando la profundidad en el rango de 3 a 40 para buscar el punto óptimo."
   ]
  },
  {
   "cell_type": "code",
   "execution_count": 7,
   "metadata": {},
   "outputs": [
    {
     "name": "stdout",
     "output_type": "stream",
     "text": [
      "0.8331495405179615 {'max_depth': 37}\n"
     ]
    }
   ],
   "source": [
    "from sklearn import tree\n",
    "from sklearn.model_selection  import cross_val_score\n",
    "from sklearn.model_selection import GridSearchCV\n",
    "\n",
    "parameters = {'max_depth':range(3,40)}\n",
    "clf = GridSearchCV(tree.DecisionTreeClassifier(), parameters, cv=10)\n",
    "clf.fit(X=bank_train, y=y_train)\n",
    "tree_model = clf.best_estimator_\n",
    "print (clf.best_score_, clf.best_params_) "
   ]
  },
  {
   "cell_type": "markdown",
   "metadata": {},
   "source": [
    "## Aplicación del algoritmo\n",
    "Una vez se tienen los datos en el formato necesario y conociendo el punto óptimo de profundidad se procede a entrenar el modelo y generar el vector de predicciones."
   ]
  },
  {
   "cell_type": "code",
   "execution_count": 8,
   "metadata": {},
   "outputs": [
    {
     "data": {
      "text/plain": [
       "19950"
      ]
     },
     "execution_count": 8,
     "metadata": {},
     "output_type": "execute_result"
    }
   ],
   "source": [
    "from sklearn import tree\n",
    "\n",
    "clf = tree.DecisionTreeClassifier(max_depth=37)\n",
    "clf = clf.fit(bank_train, y_train)\n",
    "y_predict = clf.predict(bank_test)\n",
    "y_predict.size"
   ]
  },
  {
   "cell_type": "code",
   "execution_count": 9,
   "metadata": {},
   "outputs": [
    {
     "data": {
      "text/plain": [
       "19950"
      ]
     },
     "execution_count": 9,
     "metadata": {},
     "output_type": "execute_result"
    }
   ],
   "source": [
    "y_test.size"
   ]
  },
  {
   "cell_type": "markdown",
   "metadata": {},
   "source": [
    "## Métricas\n",
    "Con los vectores de test y predicción se genera la matriz de confunsión."
   ]
  },
  {
   "cell_type": "code",
   "execution_count": 10,
   "metadata": {},
   "outputs": [
    {
     "data": {
      "text/plain": [
       "array([[7950, 1871],\n",
       "       [1349, 8780]], dtype=int64)"
      ]
     },
     "execution_count": 10,
     "metadata": {},
     "output_type": "execute_result"
    }
   ],
   "source": [
    "from sklearn.metrics import confusion_matrix\n",
    "cm = confusion_matrix(y_test, y_predict)\n",
    "cm"
   ]
  },
  {
   "cell_type": "markdown",
   "metadata": {},
   "source": [
    "De la matriz de confusión se obtiene lo siguiente:"
   ]
  },
  {
   "cell_type": "code",
   "execution_count": 11,
   "metadata": {},
   "outputs": [
    {
     "name": "stdout",
     "output_type": "stream",
     "text": [
      "VN:  7950\n",
      "FP:  1871\n",
      "FN:  1349\n",
      "VP:  8780\n",
      "-------------\n",
      "Exactitud:  0.8385964912280702\n",
      "Recall:  0.8668180471912331\n",
      "Precisión:  0.8243357431227115\n",
      "F1-Score:  0.8450433108758422\n"
     ]
    }
   ],
   "source": [
    "VN = cm[0,0]\n",
    "FP = cm[0,1]\n",
    "FN = cm[1,0]\n",
    "VP = cm[1,1]\n",
    "\n",
    "print('VN: ', VN)\n",
    "print('FP: ', FP)\n",
    "print('FN: ', FN)\n",
    "print('VP: ', VP)\n",
    "print('-------------')\n",
    "print('Exactitud: ', (VN + VP) / (VN + VP + FN + FP))\n",
    "print('Recall: ', VP / (FN + VP))\n",
    "print('Precisión: ', VP / (FP + VP))\n",
    "print('F1-Score: ', 2 * VP / (2 * VP + FN + FP))"
   ]
  }
 ],
 "metadata": {
  "kernelspec": {
   "display_name": "Python 3",
   "language": "python",
   "name": "python3"
  },
  "language_info": {
   "codemirror_mode": {
    "name": "ipython",
    "version": 3
   },
   "file_extension": ".py",
   "mimetype": "text/x-python",
   "name": "python",
   "nbconvert_exporter": "python",
   "pygments_lexer": "ipython3",
   "version": "3.7.3"
  }
 },
 "nbformat": 4,
 "nbformat_minor": 2
}
