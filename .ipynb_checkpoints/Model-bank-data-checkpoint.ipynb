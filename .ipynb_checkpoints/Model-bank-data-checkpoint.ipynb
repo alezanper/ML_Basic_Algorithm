{
 "cells": [
  {
   "cell_type": "markdown",
   "metadata": {},
   "source": [
    "# Aplicando algoritmo basado en Árboles\n",
    "Inicialmente se toma el archivo csv que se obtuvo de la fase de tratamiento de datos en la primera entrega."
   ]
  },
  {
   "cell_type": "code",
   "execution_count": 13,
   "metadata": {},
   "outputs": [
    {
     "data": {
      "text/html": [
       "<div>\n",
       "<style scoped>\n",
       "    .dataframe tbody tr th:only-of-type {\n",
       "        vertical-align: middle;\n",
       "    }\n",
       "\n",
       "    .dataframe tbody tr th {\n",
       "        vertical-align: top;\n",
       "    }\n",
       "\n",
       "    .dataframe thead th {\n",
       "        text-align: right;\n",
       "    }\n",
       "</style>\n",
       "<table border=\"1\" class=\"dataframe\">\n",
       "  <thead>\n",
       "    <tr style=\"text-align: right;\">\n",
       "      <th></th>\n",
       "      <th>age</th>\n",
       "      <th>job</th>\n",
       "      <th>marital</th>\n",
       "      <th>education</th>\n",
       "      <th>default</th>\n",
       "      <th>balance</th>\n",
       "      <th>housing</th>\n",
       "      <th>loan</th>\n",
       "      <th>campaign</th>\n",
       "      <th>previous</th>\n",
       "      <th>poutcome</th>\n",
       "      <th>y</th>\n",
       "    </tr>\n",
       "  </thead>\n",
       "  <tbody>\n",
       "    <tr>\n",
       "      <th>0</th>\n",
       "      <td>58.0</td>\n",
       "      <td>management</td>\n",
       "      <td>married</td>\n",
       "      <td>tertiary</td>\n",
       "      <td>no</td>\n",
       "      <td>2143.0</td>\n",
       "      <td>yes</td>\n",
       "      <td>no</td>\n",
       "      <td>1.0</td>\n",
       "      <td>0.0</td>\n",
       "      <td>unknown</td>\n",
       "      <td>no</td>\n",
       "    </tr>\n",
       "    <tr>\n",
       "      <th>1</th>\n",
       "      <td>44.0</td>\n",
       "      <td>technician</td>\n",
       "      <td>single</td>\n",
       "      <td>secondary</td>\n",
       "      <td>no</td>\n",
       "      <td>29.0</td>\n",
       "      <td>yes</td>\n",
       "      <td>no</td>\n",
       "      <td>1.0</td>\n",
       "      <td>0.0</td>\n",
       "      <td>unknown</td>\n",
       "      <td>no</td>\n",
       "    </tr>\n",
       "    <tr>\n",
       "      <th>2</th>\n",
       "      <td>33.0</td>\n",
       "      <td>entrepreneur</td>\n",
       "      <td>married</td>\n",
       "      <td>secondary</td>\n",
       "      <td>no</td>\n",
       "      <td>2.0</td>\n",
       "      <td>yes</td>\n",
       "      <td>yes</td>\n",
       "      <td>1.0</td>\n",
       "      <td>0.0</td>\n",
       "      <td>unknown</td>\n",
       "      <td>no</td>\n",
       "    </tr>\n",
       "    <tr>\n",
       "      <th>3</th>\n",
       "      <td>47.0</td>\n",
       "      <td>blue-collar</td>\n",
       "      <td>married</td>\n",
       "      <td>unknown</td>\n",
       "      <td>no</td>\n",
       "      <td>1506.0</td>\n",
       "      <td>yes</td>\n",
       "      <td>no</td>\n",
       "      <td>1.0</td>\n",
       "      <td>0.0</td>\n",
       "      <td>unknown</td>\n",
       "      <td>no</td>\n",
       "    </tr>\n",
       "    <tr>\n",
       "      <th>4</th>\n",
       "      <td>33.0</td>\n",
       "      <td>unknown</td>\n",
       "      <td>single</td>\n",
       "      <td>unknown</td>\n",
       "      <td>no</td>\n",
       "      <td>1.0</td>\n",
       "      <td>no</td>\n",
       "      <td>no</td>\n",
       "      <td>1.0</td>\n",
       "      <td>0.0</td>\n",
       "      <td>unknown</td>\n",
       "      <td>no</td>\n",
       "    </tr>\n",
       "  </tbody>\n",
       "</table>\n",
       "</div>"
      ],
      "text/plain": [
       "    age           job  marital  education default  balance housing loan  \\\n",
       "0  58.0    management  married   tertiary      no   2143.0     yes   no   \n",
       "1  44.0    technician   single  secondary      no     29.0     yes   no   \n",
       "2  33.0  entrepreneur  married  secondary      no      2.0     yes  yes   \n",
       "3  47.0   blue-collar  married    unknown      no   1506.0     yes   no   \n",
       "4  33.0       unknown   single    unknown      no      1.0      no   no   \n",
       "\n",
       "   campaign  previous poutcome   y  \n",
       "0       1.0       0.0  unknown  no  \n",
       "1       1.0       0.0  unknown  no  \n",
       "2       1.0       0.0  unknown  no  \n",
       "3       1.0       0.0  unknown  no  \n",
       "4       1.0       0.0  unknown  no  "
      ]
     },
     "execution_count": 13,
     "metadata": {},
     "output_type": "execute_result"
    }
   ],
   "source": [
    "import pandas as pd\n",
    "\n",
    "encoding = 'iso-8859-1'    \n",
    "delimiter = ';'\n",
    "filename = 'bank_balanced.csv'\n",
    "\n",
    "bank_balanced = pd.read_csv(filename, \n",
    "                   delimiter = delimiter,\n",
    "                   encoding = encoding)\n",
    "bank_balanced.head()"
   ]
  },
  {
   "cell_type": "markdown",
   "metadata": {},
   "source": [
    "## Aplicando Transformaciones\n",
    "Debido a que scikit-learn utiliza una versión optimizada del algoritmo CART que no soporta valores categóricos se procede a numerizar los valores categóricos del conjunto de datos."
   ]
  },
  {
   "cell_type": "code",
   "execution_count": 14,
   "metadata": {},
   "outputs": [
    {
     "name": "stdout",
     "output_type": "stream",
     "text": [
      "job:  ['management' 'technician' 'entrepreneur' 'blue-collar' 'unknown'\n",
      " 'retired' 'admin.' 'services' 'self-employed' 'unemployed' 'housemaid'\n",
      " 'student' 'other']\n",
      "marital:  ['married' 'single' 'divorced']\n",
      "education:  ['tertiary' 'secondary' 'unknown' 'primary']\n",
      "default:  ['no' 'yes']\n",
      "housing:  ['yes' 'no']\n",
      "loan:  ['no' 'yes']\n",
      "poutcome:  ['unknown' 'failure' 'other' 'success']\n",
      "y:  ['no' 'yes']\n"
     ]
    }
   ],
   "source": [
    "print('job: ', bank_balanced['job'].unique())\n",
    "print('marital: ', bank_balanced['marital'].unique())\n",
    "print('education: ', bank_balanced['education'].unique())\n",
    "print('default: ', bank_balanced['default'].unique())\n",
    "print('housing: ', bank_balanced['housing'].unique())\n",
    "print('loan: ', bank_balanced['loan'].unique())\n",
    "print('poutcome: ', bank_balanced['poutcome'].unique())\n",
    "print('y: ', bank_balanced['y'].unique())"
   ]
  },
  {
   "cell_type": "markdown",
   "metadata": {},
   "source": [
    "## Numerización\n",
    "Se generan funciones para realizar las numeraciones."
   ]
  },
  {
   "cell_type": "code",
   "execution_count": 15,
   "metadata": {},
   "outputs": [],
   "source": [
    "def bool_to_numeric(x):\n",
    "    if x=='no': return 0\n",
    "    if x=='yes': return 1\n",
    "\n",
    "def job_to_numeric(x):\n",
    "    if x == 'unknown': return 0\n",
    "    if x == 'management': return 1\n",
    "    if x == 'technician': return 2\n",
    "    if x == 'entrepreneur': return 3\n",
    "    if x == 'blue-collar': return 4\n",
    "    if x == 'retired': return 5\n",
    "    if x == 'admin.': return 6\n",
    "    if x == 'services': return 7\n",
    "    if x == 'self-employed': return 8\n",
    "    if x == 'unemployed': return 9\n",
    "    if x == 'housemaid': return 10\n",
    "    if x == 'student': return 11\n",
    "    if x == 'other': return 12\n",
    "    \n",
    "def marital_to_numeric(x):\n",
    "    if x == 'married': return 0\n",
    "    if x == 'single': return 1\n",
    "    if x == 'divorced': return 2\n",
    "\n",
    "def education_to_numeric(x):\n",
    "    if x == 'unknown': return 0\n",
    "    if x == 'primary': return 1\n",
    "    if x == 'secondary': return 2\n",
    "    if x == 'tertiary': return 3\n",
    "\n",
    "def poutcome_to_numeric(x):\n",
    "    if x == 'unknown': return 0\n",
    "    if x == 'failure': return 1\n",
    "    if x == 'success': return 2\n",
    "    if x == 'other': return 3\n",
    "\n",
    "bank_balanced['job'] = bank_balanced['job'].apply(job_to_numeric)\n",
    "bank_balanced['marital'] = bank_balanced['marital'].apply(marital_to_numeric)\n",
    "bank_balanced['education'] = bank_balanced['education'].apply(education_to_numeric)\n",
    "bank_balanced['default'] = bank_balanced['default'].apply(bool_to_numeric)\n",
    "bank_balanced['housing'] = bank_balanced['housing'].apply(bool_to_numeric)\n",
    "bank_balanced['loan'] = bank_balanced['loan'].apply(bool_to_numeric)\n",
    "bank_balanced['poutcome'] = bank_balanced['poutcome'].apply(poutcome_to_numeric)\n",
    "bank_balanced['y'] = bank_balanced['y'].apply(bool_to_numeric)"
   ]
  },
  {
   "cell_type": "markdown",
   "metadata": {},
   "source": [
    "## Archivo Transformado\n",
    "A continuación, se muestra el conjunto de datos numerizado:"
   ]
  },
  {
   "cell_type": "code",
   "execution_count": 16,
   "metadata": {},
   "outputs": [
    {
     "data": {
      "text/html": [
       "<div>\n",
       "<style scoped>\n",
       "    .dataframe tbody tr th:only-of-type {\n",
       "        vertical-align: middle;\n",
       "    }\n",
       "\n",
       "    .dataframe tbody tr th {\n",
       "        vertical-align: top;\n",
       "    }\n",
       "\n",
       "    .dataframe thead th {\n",
       "        text-align: right;\n",
       "    }\n",
       "</style>\n",
       "<table border=\"1\" class=\"dataframe\">\n",
       "  <thead>\n",
       "    <tr style=\"text-align: right;\">\n",
       "      <th></th>\n",
       "      <th>age</th>\n",
       "      <th>job</th>\n",
       "      <th>marital</th>\n",
       "      <th>education</th>\n",
       "      <th>default</th>\n",
       "      <th>balance</th>\n",
       "      <th>housing</th>\n",
       "      <th>loan</th>\n",
       "      <th>campaign</th>\n",
       "      <th>previous</th>\n",
       "      <th>poutcome</th>\n",
       "      <th>y</th>\n",
       "    </tr>\n",
       "  </thead>\n",
       "  <tbody>\n",
       "    <tr>\n",
       "      <th>0</th>\n",
       "      <td>58.0</td>\n",
       "      <td>1</td>\n",
       "      <td>0</td>\n",
       "      <td>3</td>\n",
       "      <td>0</td>\n",
       "      <td>2143.0</td>\n",
       "      <td>1</td>\n",
       "      <td>0</td>\n",
       "      <td>1.0</td>\n",
       "      <td>0.0</td>\n",
       "      <td>0</td>\n",
       "      <td>0</td>\n",
       "    </tr>\n",
       "    <tr>\n",
       "      <th>1</th>\n",
       "      <td>44.0</td>\n",
       "      <td>2</td>\n",
       "      <td>1</td>\n",
       "      <td>2</td>\n",
       "      <td>0</td>\n",
       "      <td>29.0</td>\n",
       "      <td>1</td>\n",
       "      <td>0</td>\n",
       "      <td>1.0</td>\n",
       "      <td>0.0</td>\n",
       "      <td>0</td>\n",
       "      <td>0</td>\n",
       "    </tr>\n",
       "    <tr>\n",
       "      <th>2</th>\n",
       "      <td>33.0</td>\n",
       "      <td>3</td>\n",
       "      <td>0</td>\n",
       "      <td>2</td>\n",
       "      <td>0</td>\n",
       "      <td>2.0</td>\n",
       "      <td>1</td>\n",
       "      <td>1</td>\n",
       "      <td>1.0</td>\n",
       "      <td>0.0</td>\n",
       "      <td>0</td>\n",
       "      <td>0</td>\n",
       "    </tr>\n",
       "    <tr>\n",
       "      <th>3</th>\n",
       "      <td>47.0</td>\n",
       "      <td>4</td>\n",
       "      <td>0</td>\n",
       "      <td>0</td>\n",
       "      <td>0</td>\n",
       "      <td>1506.0</td>\n",
       "      <td>1</td>\n",
       "      <td>0</td>\n",
       "      <td>1.0</td>\n",
       "      <td>0.0</td>\n",
       "      <td>0</td>\n",
       "      <td>0</td>\n",
       "    </tr>\n",
       "    <tr>\n",
       "      <th>4</th>\n",
       "      <td>33.0</td>\n",
       "      <td>0</td>\n",
       "      <td>1</td>\n",
       "      <td>0</td>\n",
       "      <td>0</td>\n",
       "      <td>1.0</td>\n",
       "      <td>0</td>\n",
       "      <td>0</td>\n",
       "      <td>1.0</td>\n",
       "      <td>0.0</td>\n",
       "      <td>0</td>\n",
       "      <td>0</td>\n",
       "    </tr>\n",
       "  </tbody>\n",
       "</table>\n",
       "</div>"
      ],
      "text/plain": [
       "    age  job  marital  education  default  balance  housing  loan  campaign  \\\n",
       "0  58.0    1        0          3        0   2143.0        1     0       1.0   \n",
       "1  44.0    2        1          2        0     29.0        1     0       1.0   \n",
       "2  33.0    3        0          2        0      2.0        1     1       1.0   \n",
       "3  47.0    4        0          0        0   1506.0        1     0       1.0   \n",
       "4  33.0    0        1          0        0      1.0        0     0       1.0   \n",
       "\n",
       "   previous  poutcome  y  \n",
       "0       0.0         0  0  \n",
       "1       0.0         0  0  \n",
       "2       0.0         0  0  \n",
       "3       0.0         0  0  \n",
       "4       0.0         0  0  "
      ]
     },
     "execution_count": 16,
     "metadata": {},
     "output_type": "execute_result"
    }
   ],
   "source": [
    "bank_balanced.head()"
   ]
  },
  {
   "cell_type": "markdown",
   "metadata": {},
   "source": [
    "## Creando los conjuntos de prueba\n",
    "Se separan los datos en dos conjuntos. El primero es para los datos utilizados durante el entrenamiento y el restante para realizar las pruebas."
   ]
  },
  {
   "cell_type": "code",
   "execution_count": 17,
   "metadata": {},
   "outputs": [],
   "source": [
    "from sklearn.model_selection import train_test_split\n",
    "\n",
    "bank_data = bank_balanced[['age','job','marital', 'education', 'default', 'balance', 'housing', 'loan', 'campaign', 'previous', 'poutcome']]\n",
    "bank_target = bank_balanced['y']\n",
    "\n",
    "bank_train, bank_test, y_train, y_test = train_test_split(bank_data, bank_target, random_state=0)"
   ]
  },
  {
   "cell_type": "markdown",
   "metadata": {},
   "source": [
    "### Verificando tamaños"
   ]
  },
  {
   "cell_type": "code",
   "execution_count": 18,
   "metadata": {},
   "outputs": [
    {
     "name": "stdout",
     "output_type": "stream",
     "text": [
      "Bank_train shape: (59850, 11)\n",
      "Y_train shape: (59850,)\n",
      "Bank_test shape: (19950, 11)\n",
      "Y_test shape: (19950,)\n"
     ]
    }
   ],
   "source": [
    "print(\"Bank_train shape: {}\".format(bank_train.shape))\n",
    "print(\"Y_train shape: {}\".format(y_train.shape))\n",
    "print(\"Bank_test shape: {}\".format(bank_test.shape))\n",
    "print(\"Y_test shape: {}\".format(y_test.shape))"
   ]
  },
  {
   "cell_type": "markdown",
   "metadata": {},
   "source": [
    "### Validación Cruzada"
   ]
  },
  {
   "cell_type": "code",
   "execution_count": 32,
   "metadata": {},
   "outputs": [
    {
     "name": "stdout",
     "output_type": "stream",
     "text": [
      "[(1, 0.6221219715956557), (2, 0.632748538011696), (3, 0.6917627401837929), (4, 0.7022055137844612), (5, 0.7226900584795322), (6, 0.7375438596491228), (7, 0.7421553884711781), (8, 0.744327485380117), (9, 0.7526984126984128), (10, 0.7546532999164578), (11, 0.759515455304929), (12, 0.7646282372598162), (13, 0.769640768588137), (14, 0.7768421052631579), (15, 0.780952380952381), (16, 0.7850793650793652), (17, 0.7910442773600669), (18, 0.7963575605680868), (19, 0.8004678362573099), (20, 0.8035588972431078), (21, 0.8090893901420217), (22, 0.8117293233082706), (23, 0.8176775271512113), (24, 0.8187468671679198), (25, 0.8227568922305765), (26, 0.8221386800334168), (27, 0.8261988304093567), (28, 0.8262322472848789), (29, 0.827451963241437), (30, 0.829406850459482), (31, 0.8292731829573936), (32, 0.8295572263993316), (33, 0.8296741854636592), (34, 0.8295739348370927), (35, 0.8305597326649957), (36, 0.8302422723475357), (37, 0.8298913951545531), (38, 0.8306098579782791), (39, 0.8307268170426064), (40, 0.8314786967418547), (41, 0.8311779448621556), (42, 0.8310442773600669), (43, 0.8304594820384293), (44, 0.831278195488722), (45, 0.83062656641604), (46, 0.830593149540518), (47, 0.830843776106934), (48, 0.8314285714285715), (49, 0.830593149540518)]\n"
     ]
    }
   ],
   "source": [
    "import numpy as np\n",
    "import pandas as pd\n",
    "from sklearn import tree\n",
    "from sklearn.model_selection  import cross_val_score\n",
    "from pprint import pprint\n",
    "\n",
    "x = bank_train\n",
    "y = y_train\n",
    "\n",
    "depth = []\n",
    "for i in range(1,50):\n",
    "    clf = tree.DecisionTreeClassifier(max_depth=i)\n",
    "    # Perform 7-fold cross validation \n",
    "    scores = cross_val_score(estimator=clf, X=x, y=y, cv=7, n_jobs=4)\n",
    "    depth.append((i,scores.mean()))\n",
    "print(depth)"
   ]
  },
  {
   "cell_type": "code",
   "execution_count": 43,
   "metadata": {},
   "outputs": [
    {
     "data": {
      "text/plain": [
       "[<matplotlib.lines.Line2D at 0x216f74b9c50>]"
      ]
     },
     "execution_count": 43,
     "metadata": {},
     "output_type": "execute_result"
    },
    {
     "data": {
      "image/png": "[encoded data removed]",
      "text/plain": [
       "<Figure size 432x288 with 1 Axes>"
      ]
     },
     "metadata": {
      "needs_background": "light"
     },
     "output_type": "display_data"
    }
   ],
   "source": [
    "import matplotlib.pyplot as plt\n",
    "plt.plot(depth[1], depth[0])\n"
   ]
  },
  {
   "cell_type": "code",
   "execution_count": null,
   "metadata": {},
   "outputs": [],
   "source": []
  },
  {
   "cell_type": "markdown",
   "metadata": {},
   "source": [
    "## Aplicación del algoritmo\n",
    "Una vez se tienen los datos en el formato necesario se procede a entrenar el modelo y se genera el vector de predicciones."
   ]
  },
  {
   "cell_type": "code",
   "execution_count": 36,
   "metadata": {},
   "outputs": [
    {
     "data": {
      "text/plain": [
       "19950"
      ]
     },
     "execution_count": 36,
     "metadata": {},
     "output_type": "execute_result"
    }
   ],
   "source": [
    "from sklearn import tree\n",
    "\n",
    "clf = tree.DecisionTreeClassifier(max_depth=36)\n",
    "clf = clf.fit(bank_train, y_train)\n",
    "y_predict = clf.predict(bank_test)\n",
    "y_predict.size"
   ]
  },
  {
   "cell_type": "code",
   "execution_count": 21,
   "metadata": {},
   "outputs": [
    {
     "data": {
      "text/plain": [
       "19950"
      ]
     },
     "execution_count": 21,
     "metadata": {},
     "output_type": "execute_result"
    }
   ],
   "source": [
    "y_test.size"
   ]
  },
  {
   "cell_type": "markdown",
   "metadata": {},
   "source": [
    "## Métricas\n",
    "Con los vectores de test y predicción se genera la matriz de confunsión."
   ]
  },
  {
   "cell_type": "code",
   "execution_count": 37,
   "metadata": {},
   "outputs": [
    {
     "data": {
      "text/plain": [
       "array([[7947, 1874],\n",
       "       [1357, 8772]], dtype=int64)"
      ]
     },
     "execution_count": 37,
     "metadata": {},
     "output_type": "execute_result"
    }
   ],
   "source": [
    "from sklearn.metrics import confusion_matrix\n",
    "\n",
    "cm = confusion_matrix(y_test, y_predict)\n",
    "cm"
   ]
  },
  {
   "cell_type": "markdown",
   "metadata": {},
   "source": [
    "De la matriz de confusión se obtiene lo siguiente:"
   ]
  },
  {
   "cell_type": "code",
   "execution_count": 38,
   "metadata": {},
   "outputs": [
    {
     "name": "stdout",
     "output_type": "stream",
     "text": [
      "VN:  7947\n",
      "FP:  1874\n",
      "FN:  1357\n",
      "VP:  8772\n"
     ]
    }
   ],
   "source": [
    "VN = cm[0,0]\n",
    "FP = cm[0,1]\n",
    "FN = cm[1,0]\n",
    "VP = cm[1,1]\n",
    "\n",
    "print('VN: ', VN)\n",
    "print('FP: ', FP)\n",
    "print('FN: ', FN)\n",
    "print('VP: ', VP)"
   ]
  },
  {
   "cell_type": "code",
   "execution_count": 39,
   "metadata": {},
   "outputs": [
    {
     "name": "stdout",
     "output_type": "stream",
     "text": [
      "Exactitud:  0.8380451127819549\n",
      "Recall:  0.8660282357587126\n",
      "Precisión:  0.823971444674056\n",
      "F1-Score:  0.8444765342960289\n"
     ]
    }
   ],
   "source": [
    "print('Exactitud: ', (VN + VP) / (VN + VP + FN + FP))\n",
    "print('Recall: ', VP / (FN + VP))\n",
    "print('Precisión: ', VP / (FP + VP))\n",
    "print('F1-Score: ', 2 * VP / (2 * VP + FN + FP))"
   ]
  },
  {
   "cell_type": "code",
   "execution_count": null,
   "metadata": {},
   "outputs": [],
   "source": []
  }
 ],
 "metadata": {
  "kernelspec": {
   "display_name": "Python 3",
   "language": "python",
   "name": "python3"
  },
  "language_info": {
   "codemirror_mode": {
    "name": "ipython",
    "version": 3
   },
   "file_extension": ".py",
   "mimetype": "text/x-python",
   "name": "python",
   "nbconvert_exporter": "python",
   "pygments_lexer": "ipython3",
   "version": "3.7.1"
  }
 },
 "nbformat": 4,
 "nbformat_minor": 2
}
