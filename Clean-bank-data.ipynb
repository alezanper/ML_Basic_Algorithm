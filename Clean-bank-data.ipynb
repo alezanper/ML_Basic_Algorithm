{
 "cells": [
  {
   "cell_type": "markdown",
   "metadata": {},
   "source": [
    "# Bank-data"
   ]
  },
  {
   "cell_type": "markdown",
   "metadata": {},
   "source": [
    "## 1. Exploración de Datos\n",
    "En esta primere parte leeremos el archivo garantizando que posibles caracteres latinos se incluyan en la lectura"
   ]
  },
  {
   "cell_type": "code",
   "execution_count": 1,
   "metadata": {},
   "outputs": [
    {
     "data": {
      "text/html": [
       "<div>\n",
       "<style scoped>\n",
       "    .dataframe tbody tr th:only-of-type {\n",
       "        vertical-align: middle;\n",
       "    }\n",
       "\n",
       "    .dataframe tbody tr th {\n",
       "        vertical-align: top;\n",
       "    }\n",
       "\n",
       "    .dataframe thead th {\n",
       "        text-align: right;\n",
       "    }\n",
       "</style>\n",
       "<table border=\"1\" class=\"dataframe\">\n",
       "  <thead>\n",
       "    <tr style=\"text-align: right;\">\n",
       "      <th></th>\n",
       "      <th>age</th>\n",
       "      <th>job</th>\n",
       "      <th>marital</th>\n",
       "      <th>education</th>\n",
       "      <th>default</th>\n",
       "      <th>balance</th>\n",
       "      <th>housing</th>\n",
       "      <th>loan</th>\n",
       "      <th>contact</th>\n",
       "      <th>day</th>\n",
       "      <th>month</th>\n",
       "      <th>duration</th>\n",
       "      <th>campaign</th>\n",
       "      <th>pdays</th>\n",
       "      <th>previous</th>\n",
       "      <th>poutcome</th>\n",
       "      <th>y</th>\n",
       "    </tr>\n",
       "  </thead>\n",
       "  <tbody>\n",
       "    <tr>\n",
       "      <th>0</th>\n",
       "      <td>58.0</td>\n",
       "      <td>management</td>\n",
       "      <td>married</td>\n",
       "      <td>tertiary</td>\n",
       "      <td>no</td>\n",
       "      <td>2143.0</td>\n",
       "      <td>yes</td>\n",
       "      <td>no</td>\n",
       "      <td>unknown</td>\n",
       "      <td>5</td>\n",
       "      <td>may</td>\n",
       "      <td>261.0</td>\n",
       "      <td>1.0</td>\n",
       "      <td>-1.0</td>\n",
       "      <td>0</td>\n",
       "      <td>unknown</td>\n",
       "      <td>no</td>\n",
       "    </tr>\n",
       "    <tr>\n",
       "      <th>1</th>\n",
       "      <td>44.0</td>\n",
       "      <td>technician</td>\n",
       "      <td>single</td>\n",
       "      <td>secondary</td>\n",
       "      <td>no</td>\n",
       "      <td>29.0</td>\n",
       "      <td>yes</td>\n",
       "      <td>no</td>\n",
       "      <td>unknown</td>\n",
       "      <td>5</td>\n",
       "      <td>may</td>\n",
       "      <td>151.0</td>\n",
       "      <td>1.0</td>\n",
       "      <td>-1.0</td>\n",
       "      <td>0</td>\n",
       "      <td>unknown</td>\n",
       "      <td>no</td>\n",
       "    </tr>\n",
       "    <tr>\n",
       "      <th>2</th>\n",
       "      <td>33.0</td>\n",
       "      <td>entrepreneur</td>\n",
       "      <td>married</td>\n",
       "      <td>secondary</td>\n",
       "      <td>no</td>\n",
       "      <td>2.0</td>\n",
       "      <td>yes</td>\n",
       "      <td>yes</td>\n",
       "      <td>unknown</td>\n",
       "      <td>5</td>\n",
       "      <td>may</td>\n",
       "      <td>76.0</td>\n",
       "      <td>1.0</td>\n",
       "      <td>-1.0</td>\n",
       "      <td>0</td>\n",
       "      <td>unknown</td>\n",
       "      <td>no</td>\n",
       "    </tr>\n",
       "    <tr>\n",
       "      <th>3</th>\n",
       "      <td>47.0</td>\n",
       "      <td>blue-collar</td>\n",
       "      <td>married</td>\n",
       "      <td>unknown</td>\n",
       "      <td>no</td>\n",
       "      <td>1506.0</td>\n",
       "      <td>yes</td>\n",
       "      <td>no</td>\n",
       "      <td>unknown</td>\n",
       "      <td>5</td>\n",
       "      <td>may</td>\n",
       "      <td>92.0</td>\n",
       "      <td>1.0</td>\n",
       "      <td>-1.0</td>\n",
       "      <td>0</td>\n",
       "      <td>unknown</td>\n",
       "      <td>no</td>\n",
       "    </tr>\n",
       "    <tr>\n",
       "      <th>4</th>\n",
       "      <td>33.0</td>\n",
       "      <td>unknown</td>\n",
       "      <td>single</td>\n",
       "      <td>unknown</td>\n",
       "      <td>no</td>\n",
       "      <td>1.0</td>\n",
       "      <td>no</td>\n",
       "      <td>no</td>\n",
       "      <td>unknown</td>\n",
       "      <td>5</td>\n",
       "      <td>may</td>\n",
       "      <td>198.0</td>\n",
       "      <td>1.0</td>\n",
       "      <td>-1.0</td>\n",
       "      <td>0</td>\n",
       "      <td>unknown</td>\n",
       "      <td>no</td>\n",
       "    </tr>\n",
       "  </tbody>\n",
       "</table>\n",
       "</div>"
      ],
      "text/plain": [
       "    age           job  marital  education default  balance housing loan  \\\n",
       "0  58.0    management  married   tertiary      no   2143.0     yes   no   \n",
       "1  44.0    technician   single  secondary      no     29.0     yes   no   \n",
       "2  33.0  entrepreneur  married  secondary      no      2.0     yes  yes   \n",
       "3  47.0   blue-collar  married    unknown      no   1506.0     yes   no   \n",
       "4  33.0       unknown   single    unknown      no      1.0      no   no   \n",
       "\n",
       "   contact  day month  duration  campaign  pdays  previous poutcome   y  \n",
       "0  unknown    5   may     261.0       1.0   -1.0         0  unknown  no  \n",
       "1  unknown    5   may     151.0       1.0   -1.0         0  unknown  no  \n",
       "2  unknown    5   may      76.0       1.0   -1.0         0  unknown  no  \n",
       "3  unknown    5   may      92.0       1.0   -1.0         0  unknown  no  \n",
       "4  unknown    5   may     198.0       1.0   -1.0         0  unknown  no  "
      ]
     },
     "execution_count": 1,
     "metadata": {},
     "output_type": "execute_result"
    }
   ],
   "source": [
    "import pandas as pd\n",
    "\n",
    "encoding = 'iso-8859-1'    \n",
    "delimiter = ';'\n",
    "filename = '../bank-data.csv'\n",
    "\n",
    "bank = pd.read_csv(filename, \n",
    "                   delimiter = delimiter,\n",
    "                   encoding = encoding)\n",
    "bank.head()"
   ]
  },
  {
   "cell_type": "markdown",
   "metadata": {},
   "source": [
    "### Verificando las llaves\n",
    "En esta etapa verificamos que llaves tiene el archivo."
   ]
  },
  {
   "cell_type": "code",
   "execution_count": 2,
   "metadata": {},
   "outputs": [
    {
     "data": {
      "text/plain": [
       "['age',\n",
       " 'job',\n",
       " 'marital',\n",
       " 'education',\n",
       " 'default',\n",
       " 'balance',\n",
       " 'housing',\n",
       " 'loan',\n",
       " 'contact',\n",
       " 'day',\n",
       " 'month',\n",
       " 'duration',\n",
       " 'campaign',\n",
       " 'pdays',\n",
       " 'previous',\n",
       " 'poutcome',\n",
       " 'y']"
      ]
     },
     "execution_count": 2,
     "metadata": {},
     "output_type": "execute_result"
    }
   ],
   "source": [
    "list(bank.keys())"
   ]
  },
  {
   "cell_type": "markdown",
   "metadata": {},
   "source": [
    "### Verificando el tamaño del archivo"
   ]
  },
  {
   "cell_type": "code",
   "execution_count": 3,
   "metadata": {},
   "outputs": [
    {
     "data": {
      "text/plain": [
       "(45211, 17)"
      ]
     },
     "execution_count": 3,
     "metadata": {},
     "output_type": "execute_result"
    }
   ],
   "source": [
    "bank.shape"
   ]
  },
  {
   "cell_type": "markdown",
   "metadata": {},
   "source": [
    "### Estadísticas\n",
    "Generamos la estadistica básica"
   ]
  },
  {
   "cell_type": "code",
   "execution_count": 4,
   "metadata": {
    "scrolled": true
   },
   "outputs": [
    {
     "data": {
      "text/html": [
       "<div>\n",
       "<style scoped>\n",
       "    .dataframe tbody tr th:only-of-type {\n",
       "        vertical-align: middle;\n",
       "    }\n",
       "\n",
       "    .dataframe tbody tr th {\n",
       "        vertical-align: top;\n",
       "    }\n",
       "\n",
       "    .dataframe thead th {\n",
       "        text-align: right;\n",
       "    }\n",
       "</style>\n",
       "<table border=\"1\" class=\"dataframe\">\n",
       "  <thead>\n",
       "    <tr style=\"text-align: right;\">\n",
       "      <th></th>\n",
       "      <th>age</th>\n",
       "      <th>balance</th>\n",
       "      <th>day</th>\n",
       "      <th>duration</th>\n",
       "      <th>campaign</th>\n",
       "      <th>pdays</th>\n",
       "      <th>previous</th>\n",
       "    </tr>\n",
       "  </thead>\n",
       "  <tbody>\n",
       "    <tr>\n",
       "      <th>count</th>\n",
       "      <td>45210.000000</td>\n",
       "      <td>45207.000000</td>\n",
       "      <td>45211.000000</td>\n",
       "      <td>45209.000000</td>\n",
       "      <td>45210.000000</td>\n",
       "      <td>45208.000000</td>\n",
       "      <td>45211.000000</td>\n",
       "    </tr>\n",
       "    <tr>\n",
       "      <th>mean</th>\n",
       "      <td>40.935965</td>\n",
       "      <td>1362.349946</td>\n",
       "      <td>15.806419</td>\n",
       "      <td>258.166626</td>\n",
       "      <td>2.763858</td>\n",
       "      <td>40.192134</td>\n",
       "      <td>0.580323</td>\n",
       "    </tr>\n",
       "    <tr>\n",
       "      <th>std</th>\n",
       "      <td>10.618752</td>\n",
       "      <td>3044.886973</td>\n",
       "      <td>8.322476</td>\n",
       "      <td>257.532767</td>\n",
       "      <td>3.098053</td>\n",
       "      <td>100.121122</td>\n",
       "      <td>2.303441</td>\n",
       "    </tr>\n",
       "    <tr>\n",
       "      <th>min</th>\n",
       "      <td>18.000000</td>\n",
       "      <td>-8019.000000</td>\n",
       "      <td>1.000000</td>\n",
       "      <td>0.000000</td>\n",
       "      <td>1.000000</td>\n",
       "      <td>-1.000000</td>\n",
       "      <td>0.000000</td>\n",
       "    </tr>\n",
       "    <tr>\n",
       "      <th>25%</th>\n",
       "      <td>33.000000</td>\n",
       "      <td>72.000000</td>\n",
       "      <td>8.000000</td>\n",
       "      <td>103.000000</td>\n",
       "      <td>1.000000</td>\n",
       "      <td>-1.000000</td>\n",
       "      <td>0.000000</td>\n",
       "    </tr>\n",
       "    <tr>\n",
       "      <th>50%</th>\n",
       "      <td>39.000000</td>\n",
       "      <td>448.000000</td>\n",
       "      <td>16.000000</td>\n",
       "      <td>180.000000</td>\n",
       "      <td>2.000000</td>\n",
       "      <td>-1.000000</td>\n",
       "      <td>0.000000</td>\n",
       "    </tr>\n",
       "    <tr>\n",
       "      <th>75%</th>\n",
       "      <td>48.000000</td>\n",
       "      <td>1428.000000</td>\n",
       "      <td>21.000000</td>\n",
       "      <td>319.000000</td>\n",
       "      <td>3.000000</td>\n",
       "      <td>-1.000000</td>\n",
       "      <td>0.000000</td>\n",
       "    </tr>\n",
       "    <tr>\n",
       "      <th>max</th>\n",
       "      <td>95.000000</td>\n",
       "      <td>102127.000000</td>\n",
       "      <td>31.000000</td>\n",
       "      <td>4918.000000</td>\n",
       "      <td>63.000000</td>\n",
       "      <td>871.000000</td>\n",
       "      <td>275.000000</td>\n",
       "    </tr>\n",
       "  </tbody>\n",
       "</table>\n",
       "</div>"
      ],
      "text/plain": [
       "                age        balance           day      duration      campaign  \\\n",
       "count  45210.000000   45207.000000  45211.000000  45209.000000  45210.000000   \n",
       "mean      40.935965    1362.349946     15.806419    258.166626      2.763858   \n",
       "std       10.618752    3044.886973      8.322476    257.532767      3.098053   \n",
       "min       18.000000   -8019.000000      1.000000      0.000000      1.000000   \n",
       "25%       33.000000      72.000000      8.000000    103.000000      1.000000   \n",
       "50%       39.000000     448.000000     16.000000    180.000000      2.000000   \n",
       "75%       48.000000    1428.000000     21.000000    319.000000      3.000000   \n",
       "max       95.000000  102127.000000     31.000000   4918.000000     63.000000   \n",
       "\n",
       "              pdays      previous  \n",
       "count  45208.000000  45211.000000  \n",
       "mean      40.192134      0.580323  \n",
       "std      100.121122      2.303441  \n",
       "min       -1.000000      0.000000  \n",
       "25%       -1.000000      0.000000  \n",
       "50%       -1.000000      0.000000  \n",
       "75%       -1.000000      0.000000  \n",
       "max      871.000000    275.000000  "
      ]
     },
     "execution_count": 4,
     "metadata": {},
     "output_type": "execute_result"
    }
   ],
   "source": [
    "bank.describe()"
   ]
  },
  {
   "cell_type": "markdown",
   "metadata": {},
   "source": [
    "### Verificando caracteristicas adicionales\n",
    "Como se hace necesario conocer las ausencias y el tipo de datos nominales se generan unas lineas para este fin"
   ]
  },
  {
   "cell_type": "code",
   "execution_count": 5,
   "metadata": {},
   "outputs": [
    {
     "data": {
      "text/html": [
       "<div>\n",
       "<style scoped>\n",
       "    .dataframe tbody tr th:only-of-type {\n",
       "        vertical-align: middle;\n",
       "    }\n",
       "\n",
       "    .dataframe tbody tr th {\n",
       "        vertical-align: top;\n",
       "    }\n",
       "\n",
       "    .dataframe thead th {\n",
       "        text-align: right;\n",
       "    }\n",
       "</style>\n",
       "<table border=\"1\" class=\"dataframe\">\n",
       "  <thead>\n",
       "    <tr style=\"text-align: right;\">\n",
       "      <th></th>\n",
       "      <th>keys</th>\n",
       "      <th>Nulls</th>\n",
       "      <th>Values</th>\n",
       "      <th># Values</th>\n",
       "    </tr>\n",
       "  </thead>\n",
       "  <tbody>\n",
       "    <tr>\n",
       "      <th>0</th>\n",
       "      <td>age</td>\n",
       "      <td>1</td>\n",
       "      <td>[58.0, 44.0, 33.0, 47.0, 35.0, 28.0, 42.0, 43....</td>\n",
       "      <td>78</td>\n",
       "    </tr>\n",
       "    <tr>\n",
       "      <th>1</th>\n",
       "      <td>job</td>\n",
       "      <td>5</td>\n",
       "      <td>[management, technician, entrepreneur, blue-co...</td>\n",
       "      <td>14</td>\n",
       "    </tr>\n",
       "    <tr>\n",
       "      <th>2</th>\n",
       "      <td>marital</td>\n",
       "      <td>6</td>\n",
       "      <td>[married, single, divorced, nan]</td>\n",
       "      <td>4</td>\n",
       "    </tr>\n",
       "    <tr>\n",
       "      <th>3</th>\n",
       "      <td>education</td>\n",
       "      <td>7</td>\n",
       "      <td>[tertiary, secondary, unknown, nan, primary]</td>\n",
       "      <td>5</td>\n",
       "    </tr>\n",
       "    <tr>\n",
       "      <th>4</th>\n",
       "      <td>default</td>\n",
       "      <td>4</td>\n",
       "      <td>[no, nan, yes]</td>\n",
       "      <td>3</td>\n",
       "    </tr>\n",
       "    <tr>\n",
       "      <th>5</th>\n",
       "      <td>balance</td>\n",
       "      <td>4</td>\n",
       "      <td>[2143.0, 29.0, 2.0, 1506.0, 1.0, 231.0, nan, 1...</td>\n",
       "      <td>7169</td>\n",
       "    </tr>\n",
       "    <tr>\n",
       "      <th>6</th>\n",
       "      <td>housing</td>\n",
       "      <td>4</td>\n",
       "      <td>[yes, no, nan]</td>\n",
       "      <td>3</td>\n",
       "    </tr>\n",
       "    <tr>\n",
       "      <th>7</th>\n",
       "      <td>loan</td>\n",
       "      <td>2</td>\n",
       "      <td>[no, yes, nan]</td>\n",
       "      <td>3</td>\n",
       "    </tr>\n",
       "    <tr>\n",
       "      <th>8</th>\n",
       "      <td>contact</td>\n",
       "      <td>8</td>\n",
       "      <td>[unknown, nan, cellular, telephone]</td>\n",
       "      <td>4</td>\n",
       "    </tr>\n",
       "    <tr>\n",
       "      <th>9</th>\n",
       "      <td>day</td>\n",
       "      <td>0</td>\n",
       "      <td>[5, 6, 7, 8, 9, 12, 13, 14, 15, 16, 19, 20, 21...</td>\n",
       "      <td>31</td>\n",
       "    </tr>\n",
       "    <tr>\n",
       "      <th>10</th>\n",
       "      <td>month</td>\n",
       "      <td>16</td>\n",
       "      <td>[may, nan, jun, jul, aug, oct, nov, dec, jan, ...</td>\n",
       "      <td>13</td>\n",
       "    </tr>\n",
       "    <tr>\n",
       "      <th>11</th>\n",
       "      <td>duration</td>\n",
       "      <td>2</td>\n",
       "      <td>[261.0, 151.0, 76.0, 92.0, 198.0, 139.0, 217.0...</td>\n",
       "      <td>1574</td>\n",
       "    </tr>\n",
       "    <tr>\n",
       "      <th>12</th>\n",
       "      <td>campaign</td>\n",
       "      <td>1</td>\n",
       "      <td>[1.0, 2.0, 3.0, 5.0, 4.0, 6.0, 7.0, 8.0, 9.0, ...</td>\n",
       "      <td>49</td>\n",
       "    </tr>\n",
       "    <tr>\n",
       "      <th>13</th>\n",
       "      <td>pdays</td>\n",
       "      <td>3</td>\n",
       "      <td>[-1.0, nan, 151.0, 166.0, 91.0, 86.0, 143.0, 1...</td>\n",
       "      <td>560</td>\n",
       "    </tr>\n",
       "    <tr>\n",
       "      <th>14</th>\n",
       "      <td>previous</td>\n",
       "      <td>0</td>\n",
       "      <td>[0, 3, 1, 4, 2, 11, 16, 6, 5, 10, 12, 7, 18, 9...</td>\n",
       "      <td>41</td>\n",
       "    </tr>\n",
       "    <tr>\n",
       "      <th>15</th>\n",
       "      <td>poutcome</td>\n",
       "      <td>1</td>\n",
       "      <td>[unknown, nan, failure, other, success]</td>\n",
       "      <td>5</td>\n",
       "    </tr>\n",
       "    <tr>\n",
       "      <th>16</th>\n",
       "      <td>y</td>\n",
       "      <td>0</td>\n",
       "      <td>[no, yes]</td>\n",
       "      <td>2</td>\n",
       "    </tr>\n",
       "  </tbody>\n",
       "</table>\n",
       "</div>"
      ],
      "text/plain": [
       "         keys  Nulls                                             Values  \\\n",
       "0         age      1  [58.0, 44.0, 33.0, 47.0, 35.0, 28.0, 42.0, 43....   \n",
       "1         job      5  [management, technician, entrepreneur, blue-co...   \n",
       "2     marital      6                   [married, single, divorced, nan]   \n",
       "3   education      7       [tertiary, secondary, unknown, nan, primary]   \n",
       "4     default      4                                     [no, nan, yes]   \n",
       "5     balance      4  [2143.0, 29.0, 2.0, 1506.0, 1.0, 231.0, nan, 1...   \n",
       "6     housing      4                                     [yes, no, nan]   \n",
       "7        loan      2                                     [no, yes, nan]   \n",
       "8     contact      8                [unknown, nan, cellular, telephone]   \n",
       "9         day      0  [5, 6, 7, 8, 9, 12, 13, 14, 15, 16, 19, 20, 21...   \n",
       "10      month     16  [may, nan, jun, jul, aug, oct, nov, dec, jan, ...   \n",
       "11   duration      2  [261.0, 151.0, 76.0, 92.0, 198.0, 139.0, 217.0...   \n",
       "12   campaign      1  [1.0, 2.0, 3.0, 5.0, 4.0, 6.0, 7.0, 8.0, 9.0, ...   \n",
       "13      pdays      3  [-1.0, nan, 151.0, 166.0, 91.0, 86.0, 143.0, 1...   \n",
       "14   previous      0  [0, 3, 1, 4, 2, 11, 16, 6, 5, 10, 12, 7, 18, 9...   \n",
       "15   poutcome      1            [unknown, nan, failure, other, success]   \n",
       "16          y      0                                          [no, yes]   \n",
       "\n",
       "    # Values  \n",
       "0         78  \n",
       "1         14  \n",
       "2          4  \n",
       "3          5  \n",
       "4          3  \n",
       "5       7169  \n",
       "6          3  \n",
       "7          3  \n",
       "8          4  \n",
       "9         31  \n",
       "10        13  \n",
       "11      1574  \n",
       "12        49  \n",
       "13       560  \n",
       "14        41  \n",
       "15         5  \n",
       "16         2  "
      ]
     },
     "execution_count": 5,
     "metadata": {},
     "output_type": "execute_result"
    }
   ],
   "source": [
    "size = len(bank)\n",
    "keys = bank.keys()\n",
    "\n",
    "nulls = []\n",
    "values = []\n",
    "Nvalues = []\n",
    "for key in keys:\n",
    "    nulls.append(len(bank[bank[key].isna() == True][key]))\n",
    "    try:\n",
    "        values.append(bank[key].unique())\n",
    "        Nvalues.append(len(bank[key].unique()))\n",
    "    except:\n",
    "        values.append('NA')\n",
    "        Nvalues.append('NA')\n",
    "\n",
    "data = {'keys': keys, \n",
    "        'Nulls': nulls, \n",
    "        'Values': values,\n",
    "        '# Values': Nvalues}\n",
    "\n",
    "Details = pd.DataFrame(data=data)\n",
    "Details"
   ]
  },
  {
   "cell_type": "markdown",
   "metadata": {},
   "source": [
    "### Aplicando técnicas de Visualización\n",
    "#### Utilizando libreria Seaborn"
   ]
  },
  {
   "cell_type": "code",
   "execution_count": 6,
   "metadata": {},
   "outputs": [
    {
     "name": "stderr",
     "output_type": "stream",
     "text": [
      "C:\\Users\\Alexander\\Anaconda3\\lib\\site-packages\\numpy\\lib\\histograms.py:754: RuntimeWarning: invalid value encountered in greater_equal\n",
      "  keep = (tmp_a >= first_edge)\n",
      "C:\\Users\\Alexander\\Anaconda3\\lib\\site-packages\\numpy\\lib\\histograms.py:755: RuntimeWarning: invalid value encountered in less_equal\n",
      "  keep &= (tmp_a <= last_edge)\n"
     ]
    },
    {
     "data": {
      "text/plain": [
       "<seaborn.axisgrid.PairGrid at 0x2c99f642198>"
      ]
     },
     "execution_count": 6,
     "metadata": {},
     "output_type": "execute_result"
    }
   ],
   "source": [
    "import matplotlib.pyplot as pt\n",
    "import seaborn as sb\n",
    "\n",
    "sb.pairplot(bank,\n",
    "            palette = 'coolwarm'\n",
    "            )"
   ]
  },
  {
   "cell_type": "markdown",
   "metadata": {},
   "source": [
    "#### Generando Histogramas"
   ]
  },
  {
   "cell_type": "code",
   "execution_count": 7,
   "metadata": {
    "scrolled": true
   },
   "outputs": [
    {
     "data": {
      "text/plain": [
       "array([[<matplotlib.axes._subplots.AxesSubplot object at 0x000002C9A4545BA8>,\n",
       "        <matplotlib.axes._subplots.AxesSubplot object at 0x000002C9A467E160>,\n",
       "        <matplotlib.axes._subplots.AxesSubplot object at 0x000002C9A46A45F8>],\n",
       "       [<matplotlib.axes._subplots.AxesSubplot object at 0x000002C9A46C9B70>,\n",
       "        <matplotlib.axes._subplots.AxesSubplot object at 0x000002C9A46FC128>,\n",
       "        <matplotlib.axes._subplots.AxesSubplot object at 0x000002C9A47226A0>],\n",
       "       [<matplotlib.axes._subplots.AxesSubplot object at 0x000002C9A474AC18>,\n",
       "        <matplotlib.axes._subplots.AxesSubplot object at 0x000002C9A477C208>,\n",
       "        <matplotlib.axes._subplots.AxesSubplot object at 0x000002C9A477C240>]],\n",
       "      dtype=object)"
      ]
     },
     "execution_count": 7,
     "metadata": {},
     "output_type": "execute_result"
    },
    {
     "data": {
      "image/png": "[encoded data removed]",
      "text/plain": [
       "<Figure size 1440x1080 with 9 Axes>"
      ]
     },
     "metadata": {
      "needs_background": "light"
     },
     "output_type": "display_data"
    }
   ],
   "source": [
    "bank.hist(bins=30, figsize=(20,15))"
   ]
  },
  {
   "cell_type": "markdown",
   "metadata": {},
   "source": [
    "#### Generando Diagramas de Caja\n",
    "Debido a las distintas escalas de los datos se generaron diagramas de caja independientes. En estos diagramas se puede observar que existes múltiples valores fuera de rango."
   ]
  },
  {
   "cell_type": "code",
   "execution_count": 8,
   "metadata": {},
   "outputs": [
    {
     "data": {
      "image/png": "[encoded data removed]",
      "text/plain": [
       "<Figure size 1080x432 with 7 Axes>"
      ]
     },
     "metadata": {
      "needs_background": "light"
     },
     "output_type": "display_data"
    }
   ],
   "source": [
    "fig, axs = pt.subplots(1, 7, figsize=(15,6))\n",
    "\n",
    "data = ['age', 'day', 'balance', 'duration', 'campaign', 'pdays', 'previous']\n",
    "\n",
    "for i in range(len(data)):\n",
    "    axs[i].set_title(data[i])\n",
    "    sb.boxplot(bank[[data[i]]], ax = axs[i], orient = 'v')\n",
    "\n",
    "pt.tight_layout()"
   ]
  },
  {
   "cell_type": "markdown",
   "metadata": {},
   "source": [
    "## 2. Preparación de datos"
   ]
  },
  {
   "cell_type": "markdown",
   "metadata": {},
   "source": [
    "### Remover ausencias\n",
    "Debido a que las ausencias no son demasiadas se decide eliminarlas del dataset. En este caso se eliminan 21 registros por presentar ausencias."
   ]
  },
  {
   "cell_type": "code",
   "execution_count": 9,
   "metadata": {},
   "outputs": [
    {
     "data": {
      "text/plain": [
       "(45190, 17)"
      ]
     },
     "execution_count": 9,
     "metadata": {},
     "output_type": "execute_result"
    }
   ],
   "source": [
    "for key in keys:\n",
    "    bank.drop(bank[bank[key].isna() == True].index, inplace = True)\n",
    "bank.shape"
   ]
  },
  {
   "cell_type": "markdown",
   "metadata": {},
   "source": [
    "Se realiza verificación para las ausencias, encontrando que no queda ninguna."
   ]
  },
  {
   "cell_type": "code",
   "execution_count": 10,
   "metadata": {},
   "outputs": [
    {
     "data": {
      "text/html": [
       "<div>\n",
       "<style scoped>\n",
       "    .dataframe tbody tr th:only-of-type {\n",
       "        vertical-align: middle;\n",
       "    }\n",
       "\n",
       "    .dataframe tbody tr th {\n",
       "        vertical-align: top;\n",
       "    }\n",
       "\n",
       "    .dataframe thead th {\n",
       "        text-align: right;\n",
       "    }\n",
       "</style>\n",
       "<table border=\"1\" class=\"dataframe\">\n",
       "  <thead>\n",
       "    <tr style=\"text-align: right;\">\n",
       "      <th></th>\n",
       "      <th>keys</th>\n",
       "      <th>Nulls</th>\n",
       "      <th>Values</th>\n",
       "      <th># Values</th>\n",
       "    </tr>\n",
       "  </thead>\n",
       "  <tbody>\n",
       "    <tr>\n",
       "      <th>0</th>\n",
       "      <td>age</td>\n",
       "      <td>0</td>\n",
       "      <td>[58.0, 44.0, 33.0, 47.0, 42.0, 43.0, 41.0, 29....</td>\n",
       "      <td>77</td>\n",
       "    </tr>\n",
       "    <tr>\n",
       "      <th>1</th>\n",
       "      <td>job</td>\n",
       "      <td>0</td>\n",
       "      <td>[management, technician, entrepreneur, blue-co...</td>\n",
       "      <td>13</td>\n",
       "    </tr>\n",
       "    <tr>\n",
       "      <th>2</th>\n",
       "      <td>marital</td>\n",
       "      <td>0</td>\n",
       "      <td>[married, single, divorced]</td>\n",
       "      <td>3</td>\n",
       "    </tr>\n",
       "    <tr>\n",
       "      <th>3</th>\n",
       "      <td>education</td>\n",
       "      <td>0</td>\n",
       "      <td>[tertiary, secondary, unknown, primary]</td>\n",
       "      <td>4</td>\n",
       "    </tr>\n",
       "    <tr>\n",
       "      <th>4</th>\n",
       "      <td>default</td>\n",
       "      <td>0</td>\n",
       "      <td>[no, yes]</td>\n",
       "      <td>2</td>\n",
       "    </tr>\n",
       "    <tr>\n",
       "      <th>5</th>\n",
       "      <td>balance</td>\n",
       "      <td>0</td>\n",
       "      <td>[2143.0, 29.0, 2.0, 1506.0, 1.0, 121.0, 593.0,...</td>\n",
       "      <td>7167</td>\n",
       "    </tr>\n",
       "    <tr>\n",
       "      <th>6</th>\n",
       "      <td>housing</td>\n",
       "      <td>0</td>\n",
       "      <td>[yes, no]</td>\n",
       "      <td>2</td>\n",
       "    </tr>\n",
       "    <tr>\n",
       "      <th>7</th>\n",
       "      <td>loan</td>\n",
       "      <td>0</td>\n",
       "      <td>[no, yes]</td>\n",
       "      <td>2</td>\n",
       "    </tr>\n",
       "    <tr>\n",
       "      <th>8</th>\n",
       "      <td>contact</td>\n",
       "      <td>0</td>\n",
       "      <td>[unknown, cellular, telephone]</td>\n",
       "      <td>3</td>\n",
       "    </tr>\n",
       "    <tr>\n",
       "      <th>9</th>\n",
       "      <td>day</td>\n",
       "      <td>0</td>\n",
       "      <td>[5, 6, 7, 8, 9, 12, 13, 14, 15, 16, 19, 20, 21...</td>\n",
       "      <td>31</td>\n",
       "    </tr>\n",
       "    <tr>\n",
       "      <th>10</th>\n",
       "      <td>month</td>\n",
       "      <td>0</td>\n",
       "      <td>[may, jun, jul, aug, oct, nov, dec, jan, feb, ...</td>\n",
       "      <td>12</td>\n",
       "    </tr>\n",
       "    <tr>\n",
       "      <th>11</th>\n",
       "      <td>duration</td>\n",
       "      <td>0</td>\n",
       "      <td>[261.0, 151.0, 76.0, 92.0, 198.0, 380.0, 50.0,...</td>\n",
       "      <td>1573</td>\n",
       "    </tr>\n",
       "    <tr>\n",
       "      <th>12</th>\n",
       "      <td>campaign</td>\n",
       "      <td>0</td>\n",
       "      <td>[1.0, 2.0, 3.0, 5.0, 4.0, 6.0, 7.0, 8.0, 9.0, ...</td>\n",
       "      <td>48</td>\n",
       "    </tr>\n",
       "    <tr>\n",
       "      <th>13</th>\n",
       "      <td>pdays</td>\n",
       "      <td>0</td>\n",
       "      <td>[-1.0, 151.0, 166.0, 91.0, 86.0, 143.0, 147.0,...</td>\n",
       "      <td>559</td>\n",
       "    </tr>\n",
       "    <tr>\n",
       "      <th>14</th>\n",
       "      <td>previous</td>\n",
       "      <td>0</td>\n",
       "      <td>[0, 3, 1, 4, 2, 11, 16, 6, 5, 10, 12, 7, 18, 9...</td>\n",
       "      <td>41</td>\n",
       "    </tr>\n",
       "    <tr>\n",
       "      <th>15</th>\n",
       "      <td>poutcome</td>\n",
       "      <td>0</td>\n",
       "      <td>[unknown, failure, other, success]</td>\n",
       "      <td>4</td>\n",
       "    </tr>\n",
       "    <tr>\n",
       "      <th>16</th>\n",
       "      <td>y</td>\n",
       "      <td>0</td>\n",
       "      <td>[no, yes]</td>\n",
       "      <td>2</td>\n",
       "    </tr>\n",
       "  </tbody>\n",
       "</table>\n",
       "</div>"
      ],
      "text/plain": [
       "         keys  Nulls                                             Values  \\\n",
       "0         age      0  [58.0, 44.0, 33.0, 47.0, 42.0, 43.0, 41.0, 29....   \n",
       "1         job      0  [management, technician, entrepreneur, blue-co...   \n",
       "2     marital      0                        [married, single, divorced]   \n",
       "3   education      0            [tertiary, secondary, unknown, primary]   \n",
       "4     default      0                                          [no, yes]   \n",
       "5     balance      0  [2143.0, 29.0, 2.0, 1506.0, 1.0, 121.0, 593.0,...   \n",
       "6     housing      0                                          [yes, no]   \n",
       "7        loan      0                                          [no, yes]   \n",
       "8     contact      0                     [unknown, cellular, telephone]   \n",
       "9         day      0  [5, 6, 7, 8, 9, 12, 13, 14, 15, 16, 19, 20, 21...   \n",
       "10      month      0  [may, jun, jul, aug, oct, nov, dec, jan, feb, ...   \n",
       "11   duration      0  [261.0, 151.0, 76.0, 92.0, 198.0, 380.0, 50.0,...   \n",
       "12   campaign      0  [1.0, 2.0, 3.0, 5.0, 4.0, 6.0, 7.0, 8.0, 9.0, ...   \n",
       "13      pdays      0  [-1.0, 151.0, 166.0, 91.0, 86.0, 143.0, 147.0,...   \n",
       "14   previous      0  [0, 3, 1, 4, 2, 11, 16, 6, 5, 10, 12, 7, 18, 9...   \n",
       "15   poutcome      0                 [unknown, failure, other, success]   \n",
       "16          y      0                                          [no, yes]   \n",
       "\n",
       "    # Values  \n",
       "0         77  \n",
       "1         13  \n",
       "2          3  \n",
       "3          4  \n",
       "4          2  \n",
       "5       7167  \n",
       "6          2  \n",
       "7          2  \n",
       "8          3  \n",
       "9         31  \n",
       "10        12  \n",
       "11      1573  \n",
       "12        48  \n",
       "13       559  \n",
       "14        41  \n",
       "15         4  \n",
       "16         2  "
      ]
     },
     "execution_count": 10,
     "metadata": {},
     "output_type": "execute_result"
    }
   ],
   "source": [
    "size = len(bank)\n",
    "keys = bank.keys()\n",
    "\n",
    "nulls = []\n",
    "values = []\n",
    "Nvalues = []\n",
    "for key in keys:\n",
    "    nulls.append(len(bank[bank[key].isna() == True][key]))\n",
    "    try:\n",
    "        values.append(bank[key].unique())\n",
    "        Nvalues.append(len(bank[key].unique()))\n",
    "    except:\n",
    "        values.append('NA')\n",
    "        Nvalues.append('NA')\n",
    "\n",
    "data = {'keys': keys, \n",
    "        'Nulls': nulls, \n",
    "        'Values': values,\n",
    "        '# Values': Nvalues}\n",
    "\n",
    "Details = pd.DataFrame(data=data)\n",
    "Details"
   ]
  },
  {
   "cell_type": "markdown",
   "metadata": {},
   "source": [
    "### Selección de Variables\n",
    "En una primera fase acorde a la descripción del dataset y el objetivo del modelo se decide eliminar algunos atributos debido a que consideramos que no tienen relevancia para el caso: day, month, contact. "
   ]
  },
  {
   "cell_type": "code",
   "execution_count": 11,
   "metadata": {},
   "outputs": [],
   "source": [
    "bank.drop(['day', 'month', 'contact'], \n",
    "          axis=1, \n",
    "          inplace = True)\n"
   ]
  },
  {
   "cell_type": "code",
   "execution_count": 14,
   "metadata": {},
   "outputs": [
    {
     "data": {
      "text/plain": [
       "['age',\n",
       " 'job',\n",
       " 'marital',\n",
       " 'education',\n",
       " 'default',\n",
       " 'balance',\n",
       " 'housing',\n",
       " 'loan',\n",
       " 'duration',\n",
       " 'campaign',\n",
       " 'pdays',\n",
       " 'previous',\n",
       " 'poutcome',\n",
       " 'y']"
      ]
     },
     "execution_count": 14,
     "metadata": {},
     "output_type": "execute_result"
    }
   ],
   "source": [
    "list(bank.keys())"
   ]
  },
  {
   "cell_type": "markdown",
   "metadata": {},
   "source": [
    "### Selección Mediante Varianza \n",
    "Realizamos análisis de varianza para establecer si alguna de las variables numéricas es eliminable, para esto usaremos sklearn.feature_selection "
   ]
  },
  {
   "cell_type": "code",
   "execution_count": 46,
   "metadata": {},
   "outputs": [
    {
     "data": {
      "text/plain": [
       "(45190, 6)"
      ]
     },
     "execution_count": 46,
     "metadata": {},
     "output_type": "execute_result"
    }
   ],
   "source": [
    "from sklearn.feature_selection  import  VarianceThreshold \n",
    "\n",
    "numerical_keys = ['age', 'balance', 'duration', 'campaign', 'pdays', 'previous']\n",
    "\n",
    "selector = VarianceThreshold(threshold = 0.95)\n",
    "subset = selector.fit_transform(bank[numerical_keys])\n",
    "subset\n",
    "subset.shape"
   ]
  },
  {
   "cell_type": "code",
   "execution_count": null,
   "metadata": {},
   "outputs": [],
   "source": []
  }
 ],
 "metadata": {
  "kernelspec": {
   "display_name": "Python 3",
   "language": "python",
   "name": "python3"
  },
  "language_info": {
   "codemirror_mode": {
    "name": "ipython",
    "version": 3
   },
   "file_extension": ".py",
   "mimetype": "text/x-python",
   "name": "python",
   "nbconvert_exporter": "python",
   "pygments_lexer": "ipython3",
   "version": "3.7.1"
  }
 },
 "nbformat": 4,
 "nbformat_minor": 2
}
